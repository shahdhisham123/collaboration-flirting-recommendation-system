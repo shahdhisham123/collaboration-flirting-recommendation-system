{
 "cells": [
  {
   "cell_type": "code",
   "execution_count": 1,
   "id": "447e33e1",
   "metadata": {},
   "outputs": [],
   "source": [
    "import pandas as pd\n",
    "import numpy as np\n",
    "from sklearn.metrics.pairwise import cosine_similarity\n",
    "from sklearn.metrics import mean_squared_error\n",
    "from surprise import Dataset, Reader, KNNBasic\n",
    "from surprise.model_selection import train_test_split\n",
    "import matplotlib.pyplot as plt\n",
    "import seaborn as sns"
   ]
  },
  {
   "cell_type": "code",
   "execution_count": null,
   "id": "91c84303",
   "metadata": {},
   "outputs": [
    {
     "name": "stdout",
     "output_type": "stream",
     "text": [
      "Item-User Matrix Shape: (1682, 943)\n"
     ]
    }
   ],
   "source": [
    "# Load ratings and movie data\n",
    "ratings = pd.read_csv('C:/Users/Zenab/Desktop/inn assigment/ml-100k', sep='\\t', names=['user_id', 'item_id', 'rating', 'timestamp'])\n",
    "movies = pd.read_csv('C:/Users/Zenab/Desktop/inn assigment/ml-100k', sep='|', encoding='latin-1', usecols=[0, 1], names=['item_id', 'title'])\n",
    "\n",
    "# Create item-user matrix (transpose of user-item matrix)\n",
    "item_user_matrix = ratings.pivot_table(index='item_id', columns='user_id', values='rating').fillna(0)\n",
    "print(\"Item-User Matrix Shape:\", item_user_matrix.shape)"
   ]
  },
  {
   "cell_type": "code",
   "execution_count": 3,
   "id": "72e7b82e",
   "metadata": {},
   "outputs": [
    {
     "name": "stdout",
     "output_type": "stream",
     "text": [
      "Item Similarity Matrix Shape: (1682, 1682)\n",
      "Sample (First 5 Items):\n",
      "item_id         1         2         3         4         5\n",
      "item_id                                                  \n",
      "1        1.000000  0.402382  0.330245  0.454938  0.286714\n",
      "2        0.402382  1.000000  0.273069  0.502571  0.318836\n",
      "3        0.330245  0.273069  1.000000  0.324866  0.212957\n",
      "4        0.454938  0.502571  0.324866  1.000000  0.334239\n",
      "5        0.286714  0.318836  0.212957  0.334239  1.000000\n"
     ]
    }
   ],
   "source": [
    "# Calculate cosine similarity between items\n",
    "item_similarity = cosine_similarity(item_user_matrix)\n",
    "item_similarity = pd.DataFrame(\n",
    "    item_similarity,\n",
    "    index=item_user_matrix.index,\n",
    "    columns=item_user_matrix.index\n",
    ")\n",
    "\n",
    "print(\"Item Similarity Matrix Shape:\", item_similarity.shape)\n",
    "print(\"Sample (First 5 Items):\")\n",
    "print(item_similarity.iloc[:5, :5])"
   ]
  },
  {
   "cell_type": "code",
   "execution_count": 4,
   "id": "7b9f6a6d",
   "metadata": {},
   "outputs": [],
   "source": [
    "def predict_rating(user_id, item_id, k=5):\n",
    "    \"\"\"\n",
    "    Predicts a user's rating for an item using:\n",
    "    - Weighted average of ratings from top-K similar items\n",
    "    \"\"\"\n",
    "    # Get user's ratings\n",
    "    user_ratings = item_user_matrix[user_id]\n",
    "    \n",
    "    # Get similarity scores for the target item\n",
    "    sim_scores = item_similarity.loc[item_id]\n",
    "    \n",
    "    # Find items the user has rated\n",
    "    rated_items = user_ratings[user_ratings > 0].index\n",
    "    \n",
    "    # Get top-K most similar items that the user rated\n",
    "    top_k_items = sim_scores[rated_items].sort_values(ascending=False)[:k]\n",
    "    \n",
    "    # Calculate weighted average\n",
    "    weighted_sum = np.dot(\n",
    "        top_k_items.values,\n",
    "        item_user_matrix.loc[top_k_items.index, user_id]\n",
    "    )\n",
    "    prediction = weighted_sum / top_k_items.sum()\n",
    "    \n",
    "    return prediction"
   ]
  },
  {
   "cell_type": "code",
   "execution_count": null,
   "id": "e7389e5a",
   "metadata": {},
   "outputs": [
    {
     "name": "stdout",
     "output_type": "stream",
     "text": [
      "Top 5 Recommendations for User 1:\n",
      "1. English Patient, The (1996) (Predicted Rating: 5.00)\n",
      "2. Evita (1996) (Predicted Rating: 5.00)\n",
      "3. Everyone Says I Love You (1996) (Predicted Rating: 5.00)\n",
      "4. Mother (1996) (Predicted Rating: 5.00)\n",
      "5. Young Poisoner's Handbook, The (1995) (Predicted Rating: 5.00)\n"
     ]
    }
   ],
   "source": [
    "def recommend_items(user_id, n=5, k=5):\n",
    "    \"\"\"\n",
    "    Recommends top-N items a user hasn't rated yet.\n",
    "    \"\"\"\n",
    "    # Items the user has already rated\n",
    "    rated_items = ratings[ratings['user_id'] == user_id]['item_id']\n",
    "    \n",
    "    # Predict ratings for unrated items\n",
    "    predictions = []\n",
    "    for item in item_user_matrix.index:\n",
    "        if item not in rated_items.values:\n",
    "            pred = predict_rating(user_id, item, k=k)\n",
    "            movie_title = movies[movies['item_id'] == item]['title'].values[0]\n",
    "            predictions.append((movie_title, pred))\n",
    "    \n",
    "    # Sort by predicted rating\n",
    "    recommendations = sorted(predictions, key=lambda x: x[1], reverse=True)[:n]\n",
    "    \n",
    "    return recommendations\n",
    "\n",
    "\n",
    "user_id = 1\n",
    "recommendations = recommend_items(user_id, n=5)\n",
    "print(f\"Top 5 Recommendations for User {user_id}:\")\n",
    "for i, (movie, rating) in enumerate(recommendations, 1):\n",
    "    print(f\"{i}. {movie} (Predicted Rating: {rating:.2f})\")"
   ]
  }
 ],
 "metadata": {
  "kernelspec": {
   "display_name": "Python 3",
   "language": "python",
   "name": "python3"
  },
  "language_info": {
   "codemirror_mode": {
    "name": "ipython",
    "version": 3
   },
   "file_extension": ".py",
   "mimetype": "text/x-python",
   "name": "python",
   "nbconvert_exporter": "python",
   "pygments_lexer": "ipython3",
   "version": "3.10.0"
  }
 },
 "nbformat": 4,
 "nbformat_minor": 5
}
