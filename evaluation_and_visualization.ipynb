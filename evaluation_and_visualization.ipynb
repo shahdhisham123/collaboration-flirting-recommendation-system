{
 "cells": [
  {
   "cell_type": "code",
   "execution_count": 11,
   "id": "c4276af9",
   "metadata": {},
   "outputs": [],
   "source": [
    "# Import libraries\n",
    "import pandas as pd\n",
    "import numpy as np\n",
    "import matplotlib.pyplot as plt\n",
    "import seaborn as sns\n",
    "from matplotlib_venn import venn2\n",
    "\n",
    "# Set style for plots\n",
    "\n",
    "sns.set_palette('pastel')"
   ]
  },
  {
   "cell_type": "code",
   "execution_count": null,
   "id": "0f7bfbea",
   "metadata": {},
   "outputs": [],
   "source": [
    "# Load results from both models\n",
    "user_based_metrics = pd.read_csv('C:/Users/Zenab/Desktop/inn assigment/res')\n",
    "item_based_metrics = pd.read_csv('C:/Users/Zenab/Desktop/inn assigment/res')\n",
    "\n",
    "# Load sample recommendations\n",
    "user_recs = pd.read_csv('C:/Users/Zenab/Desktop/inn assigment/res')\n",
    "item_recs = pd.read_csv('C:/Users/Zenab/Desktop/inn assigment/res')"
   ]
  },
  {
   "cell_type": "code",
   "execution_count": 15,
   "id": "bdbe42a9",
   "metadata": {},
   "outputs": [
    {
     "name": "stdout",
     "output_type": "stream",
     "text": [
      "Performance Comparison:\n"
     ]
    },
    {
     "data": {
      "text/html": [
       "<div>\n",
       "<style scoped>\n",
       "    .dataframe tbody tr th:only-of-type {\n",
       "        vertical-align: middle;\n",
       "    }\n",
       "\n",
       "    .dataframe tbody tr th {\n",
       "        vertical-align: top;\n",
       "    }\n",
       "\n",
       "    .dataframe thead th {\n",
       "        text-align: right;\n",
       "    }\n",
       "</style>\n",
       "<table border=\"1\" class=\"dataframe\">\n",
       "  <thead>\n",
       "    <tr style=\"text-align: right;\">\n",
       "      <th></th>\n",
       "      <th>Metric</th>\n",
       "      <th>User-Based</th>\n",
       "      <th>Item-Based</th>\n",
       "    </tr>\n",
       "  </thead>\n",
       "  <tbody>\n",
       "    <tr>\n",
       "      <th>0</th>\n",
       "      <td>RMSE</td>\n",
       "      <td>NaN</td>\n",
       "      <td>NaN</td>\n",
       "    </tr>\n",
       "    <tr>\n",
       "      <th>1</th>\n",
       "      <td>Precision@5</td>\n",
       "      <td>NaN</td>\n",
       "      <td>NaN</td>\n",
       "    </tr>\n",
       "    <tr>\n",
       "      <th>2</th>\n",
       "      <td>Recall@5</td>\n",
       "      <td>NaN</td>\n",
       "      <td>NaN</td>\n",
       "    </tr>\n",
       "  </tbody>\n",
       "</table>\n",
       "</div>"
      ],
      "text/plain": [
       "        Metric  User-Based  Item-Based\n",
       "0         RMSE         NaN         NaN\n",
       "1  Precision@5         NaN         NaN\n",
       "2     Recall@5         NaN         NaN"
      ]
     },
     "metadata": {},
     "output_type": "display_data"
    }
   ],
   "source": [
    "# Create comparison table\n",
    "metrics_comparison = pd.DataFrame({\n",
    "    'Metric': ['RMSE', 'Precision@5', 'Recall@5'],\n",
    "    'User-Based': [\n",
    "        user_based_metrics.get('RMSE', [np.nan])[0],\n",
    "        user_based_metrics.get('Precision@5', [np.nan])[0],\n",
    "        user_based_metrics.get('Recall@5', [np.nan])[0]\n",
    "    ],\n",
    "    'Item-Based': [\n",
    "        item_based_metrics.get('RMSE', [np.nan])[0],\n",
    "        item_based_metrics.get('Precision@5', [np.nan])[0], \n",
    "        item_based_metrics.get('Recall@5', [np.nan])[0]\n",
    "    ]\n",
    "})\n",
    "\n",
    "print(\"Performance Comparison:\")\n",
    "display(metrics_comparison)"
   ]
  },
  {
   "cell_type": "code",
   "execution_count": null,
   "id": "8081863f",
   "metadata": {},
   "outputs": [
    {
     "data": {
      "text/plain": [
       "<Figure size 1000x600 with 0 Axes>"
      ]
     },
     "metadata": {},
     "output_type": "display_data"
    },
    {
     "data": {
      "image/png": "[encoded data removed]",
      "text/plain": [
       "<Figure size 640x480 with 1 Axes>"
      ]
     },
     "metadata": {},
     "output_type": "display_data"
    }
   ],
   "source": [
    "plt.figure(figsize=(10, 6))\n",
    "metrics_comparison.set_index('Metric').plot(kind='bar', rot=0)\n",
    "plt.title('Model Performance Comparison')\n",
    "plt.ylabel('Score')\n",
    "plt.xticks(rotation=45)\n",
    "plt.tight_layout()\n",
    "plt.savefig('results/metric_comparison.png')\n",
    "plt.show()"
   ]
  },
  {
   "cell_type": "code",
   "execution_count": null,
   "id": "3b6e3bf6",
   "metadata": {},
   "outputs": [
    {
     "name": "stdout",
     "output_type": "stream",
     "text": [
      "Successfully loaded movie metadata\n",
      "Error loading recommendation files: [Errno 2] No such file or directory: 'D:/Semester Four/Intelligent Programming/Project 2/results/item_based_recommendations.csv'\n",
      "Please run the recommendation notebooks first\n"
     ]
    }
   ],
   "source": [
    "# Load movie metadata\n",
    "try:\n",
    "    movies = pd.read_csv('C:/Users/Zenab/Desktop/inn assigment', sep='|', encoding='latin-1', \n",
    "                        usecols=[0, 1], names=['item_id', 'title'])\n",
    "    print(\"Successfully loaded movie metadata\")\n",
    "except FileNotFoundError:\n",
    "    print(\"Error: Movie metadata file not found at 'data/u.item'\")\n",
    "    movies = pd.DataFrame(columns=['item_id', 'title'])\n",
    "\n",
    "\n",
    "try:\n",
    "    # Load user-based recommendations\n",
    "    user_recs = pd.read_csv('C:/Users/Zenab/Desktop/inn assigment/res')\n",
    "    \n",
    "    # Load item-based recommendations\n",
    "    item_recs = pd.read_csv('C:/Users/Zenab/Desktop/inn assigment/res')\n",
    "    \n",
    "    if 'item_id' in user_recs.columns and not 'title' in user_recs.columns:\n",
    "        user_recs = user_recs.merge(movies, on='item_id', how='left')\n",
    "    if 'item_id' in item_recs.columns and not 'title' in item_recs.columns:\n",
    "        item_recs = item_recs.merge(movies, on='item_id', how='left')\n",
    "        \n",
    "    \n",
    "    user_movie_col = 'title' if 'title' in user_recs.columns else user_recs.columns[0]\n",
    "    item_movie_col = 'title' if 'title' in item_recs.columns else item_recs.columns[0]\n",
    "    \n",
    "    \n",
    "    comparison_data = {\n",
    "        'User-Based Recommendations': user_recs[user_movie_col].head(5),\n",
    "        'Item-Based Recommendations': item_recs[item_movie_col].head(5)\n",
    "    }\n",
    "    \n",
    "    # Add ratings if available\n",
    "    if 'predicted_rating' in user_recs.columns:\n",
    "        comparison_data['User-Based Rating'] = user_recs['predicted_rating'].head(5).round(2)\n",
    "    if 'predicted_rating' in item_recs.columns:\n",
    "        comparison_data['Item-Based Rating'] = item_recs['predicted_rating'].head(5).round(2)\n",
    "    \n",
    "    comparison_df = pd.DataFrame(comparison_data)\n",
    "    \n",
    "    print(\"\\nTop 5 Recommendations Comparison:\")\n",
    "    display(comparison_df)\n",
    "    \n",
    "except FileNotFoundError as e:\n",
    "    print(f\"Error loading recommendation files: {e}\")\n",
    "    print(\"Please run the recommendation notebooks first\")\n",
    "except Exception as e:\n",
    "    print(f\"Unexpected error: {e}\")\n",
    "    print(\"User_recs columns:\", list(user_recs.columns) if 'user_recs' in locals() else \"Not loaded\")\n",
    "    print(\"Item_recs columns:\", list(item_recs.columns) if 'item_recs' in locals() else \"Not loaded\")"
   ]
  }
 ],
 "metadata": {
  "kernelspec": {
   "display_name": "Python 3",
   "language": "python",
   "name": "python3"
  },
  "language_info": {
   "codemirror_mode": {
    "name": "ipython",
    "version": 3
   },
   "file_extension": ".py",
   "mimetype": "text/x-python",
   "name": "python",
   "nbconvert_exporter": "python",
   "pygments_lexer": "ipython3",
   "version": "3.10.0"
  }
 },
 "nbformat": 4,
 "nbformat_minor": 5
}
