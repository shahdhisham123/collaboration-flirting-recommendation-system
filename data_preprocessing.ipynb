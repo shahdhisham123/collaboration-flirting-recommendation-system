{
 "cells": [
  {
   "cell_type": "code",
   "execution_count": 2,
   "id": "bbfb37dd",
   "metadata": {},
   "outputs": [],
   "source": [
    "import pandas as pd\n",
    "import numpy as np\n",
    "from surprise import Dataset, Reader, KNNBasic\n",
    "from surprise.model_selection import train_test_split\n",
    "from sklearn.metrics import mean_squared_error\n",
    "import matplotlib.pyplot as plt\n",
    "import seaborn as sns\n",
    "import os"
   ]
  },
  {
   "cell_type": "code",
   "execution_count": null,
   "id": "405de264",
   "metadata": {},
   "outputs": [
    {
     "name": "stdout",
     "output_type": "stream",
     "text": [
      "Data merged successfully!\n",
      "\n",
      "First few rows of merged data:\n",
      "   user_id  item_id  rating  timestamp                       title  \\\n",
      "0      196      242       3  881250949                Kolya (1996)   \n",
      "1      186      302       3  891717742    L.A. Confidential (1997)   \n",
      "2       22      377       1  878887116         Heavyweights (1994)   \n",
      "3      244       51       2  880606923  Legends of the Fall (1994)   \n",
      "4      166      346       1  886397596         Jackie Brown (1997)   \n",
      "\n",
      "  release_date  video_release_date  \\\n",
      "0  24-Jan-1997                 NaN   \n",
      "1  01-Jan-1997                 NaN   \n",
      "2  01-Jan-1994                 NaN   \n",
      "3  01-Jan-1994                 NaN   \n",
      "4  01-Jan-1997                 NaN   \n",
      "\n",
      "                                            IMDb_URL  unknown  Action  ...  \\\n",
      "0    http://us.imdb.com/M/title-exact?Kolya%20(1996)        0       0  ...   \n",
      "1  http://us.imdb.com/M/title-exact?L%2EA%2E+Conf...        0       0  ...   \n",
      "2  http://us.imdb.com/M/title-exact?Heavyweights%...        0       0  ...   \n",
      "3  http://us.imdb.com/M/title-exact?Legends%20of%...        0       0  ...   \n",
      "4  http://us.imdb.com/M/title-exact?imdb-title-11...        0       0  ...   \n",
      "\n",
      "   Mystery  Romance  Sci-Fi  Thriller  War  Western  age  gender  occupation  \\\n",
      "0        0        0       0         0    0        0   49       M      writer   \n",
      "1        1        0       0         1    0        0   39       F   executive   \n",
      "2        0        0       0         0    0        0   25       M      writer   \n",
      "3        0        1       0         0    1        1   28       M  technician   \n",
      "4        0        0       0         0    0        0   47       M    educator   \n",
      "\n",
      "   zip_code  \n",
      "0     55105  \n",
      "1     00000  \n",
      "2     40206  \n",
      "3     80525  \n",
      "4     55113  \n",
      "\n",
      "[5 rows x 31 columns]\n",
      "Error merging data: Cannot save file into a non-existent directory: 'data'\n",
      "\n",
      "Current column names:\n",
      "Ratings: ['user_id', 'item_id', 'rating', 'timestamp']\n",
      "Movies: ['item_id', 'title', 'release_date', 'video_release_date', 'IMDb_URL', 'unknown', 'Action', 'Adventure', 'Animation', 'Children', 'Comedy', 'Crime', 'Documentary', 'Drama', 'Fantasy', 'Film-Noir', 'Horror', 'Musical', 'Mystery', 'Romance', 'Sci-Fi', 'Thriller', 'War', 'Western']\n",
      "Users: ['user_id', 'age', 'gender', 'occupation', 'zip_code']\n"
     ]
    }
   ],
   "source": [
    "# For the ratings data:\n",
    "ratings = pd.read_csv('C:/Users/Zenab/Desktop/inn assigment/ml-100k', \n",
    "                     sep='\\t', \n",
    "                     names=['user_id', 'item_id', 'rating', 'timestamp'])\n",
    "\n",
    "# For the movies data:\n",
    "movies = pd.read_csv('C:/Users/Zenab/Desktop/inn assigment/ml-100k', \n",
    "                    sep='|', \n",
    "                    encoding='latin-1',\n",
    "                    header=None)  # Add column names as needed\n",
    "movies.columns = [\n",
    "    'movie_id', 'title', 'release_date', 'video_release_date', 'IMDb_URL',\n",
    "    'unknown', 'Action', 'Adventure', 'Animation', 'Children', 'Comedy',\n",
    "    'Crime', 'Documentary', 'Drama', 'Fantasy', 'Film-Noir', 'Horror',\n",
    "    'Musical', 'Mystery', 'Romance', 'Sci-Fi', 'Thriller', 'War', 'Western'\n",
    "]\n",
    "\n",
    "# For the users data:\n",
    "users = pd.read_csv('C:/Users/Zenab/Desktop/inn assigment/ml-100k', \n",
    "                   sep='|', \n",
    "                   names=['user_id', 'age', 'gender', 'occupation', 'zip_code'])\n",
    "movies = movies.rename(columns={'movie_id': 'item_id'})\n",
    "\n",
    "# Now merge the data\n",
    "try:\n",
    "    # Merge ratings with movies\n",
    "    movie_ratings = pd.merge(ratings, movies, on='item_id')\n",
    "    \n",
    "    # Then merge with users\n",
    "    full_data = pd.merge(movie_ratings, users, on='user_id')\n",
    "    \n",
    "    print(\"Data merged successfully!\")\n",
    "    print(\"\\nFirst few rows of merged data:\")\n",
    "    print(full_data.head())\n",
    "    \n",
    "    # Save the merged data\n",
    "    full_data.to_csv('data/merged_data.csv', index=False)\n",
    "    \n",
    "except Exception as e:\n",
    "    print(f\"Error merging data: {e}\")\n",
    "    print(\"\\nCurrent column names:\")\n",
    "    print(\"Ratings:\", ratings.columns.tolist())\n",
    "    print(\"Movies:\", movies.columns.tolist())\n",
    "    print(\"Users:\", users.columns.tolist())"
   ]
  },
  {
   "cell_type": "code",
   "execution_count": 4,
   "id": "48747343",
   "metadata": {},
   "outputs": [
    {
     "name": "stdout",
     "output_type": "stream",
     "text": [
      "Ratings columns: ['user_id', 'item_id', 'rating', 'timestamp']\n",
      "Movies columns: ['item_id', 'title', 'release_date', 'video_release_date', 'IMDb_URL', 'unknown', 'Action', 'Adventure', 'Animation', 'Children', 'Comedy', 'Crime', 'Documentary', 'Drama', 'Fantasy', 'Film-Noir', 'Horror', 'Musical', 'Mystery', 'Romance', 'Sci-Fi', 'Thriller', 'War', 'Western']\n",
      "Users columns: ['user_id', 'age', 'gender', 'occupation', 'zip_code']\n"
     ]
    }
   ],
   "source": [
    "print(\"Ratings columns:\", ratings.columns.tolist())\n",
    "print(\"Movies columns:\", movies.columns.tolist())\n",
    "print(\"Users columns:\", users.columns.tolist())"
   ]
  },
  {
   "cell_type": "code",
   "execution_count": 5,
   "id": "561cb6c5",
   "metadata": {},
   "outputs": [
    {
     "name": "stdout",
     "output_type": "stream",
     "text": [
      "Missing Values in Ratings: 0\n",
      "Missing Values in Movies: 1686\n",
      "Missing Values in Users: 0\n"
     ]
    }
   ],
   "source": [
    "#Check for Missing Values\n",
    "print(\"Missing Values in Ratings:\", ratings.isnull().sum().sum())\n",
    "print(\"Missing Values in Movies:\", movies.isnull().sum().sum())\n",
    "print(\"Missing Values in Users:\", users.isnull().sum().sum())"
   ]
  },
  {
   "cell_type": "code",
   "execution_count": 6,
   "id": "ed36cddb",
   "metadata": {},
   "outputs": [
    {
     "name": "stdout",
     "output_type": "stream",
     "text": [
      "\n",
      "Merged Data (Ratings + Movies):\n",
      "   user_id  item_id  rating  timestamp                       title  \\\n",
      "0      196      242       3  881250949                Kolya (1996)   \n",
      "1      186      302       3  891717742    L.A. Confidential (1997)   \n",
      "2       22      377       1  878887116         Heavyweights (1994)   \n",
      "3      244       51       2  880606923  Legends of the Fall (1994)   \n",
      "4      166      346       1  886397596         Jackie Brown (1997)   \n",
      "\n",
      "  release_date  video_release_date  \\\n",
      "0  24-Jan-1997                 NaN   \n",
      "1  01-Jan-1997                 NaN   \n",
      "2  01-Jan-1994                 NaN   \n",
      "3  01-Jan-1994                 NaN   \n",
      "4  01-Jan-1997                 NaN   \n",
      "\n",
      "                                            IMDb_URL  unknown  Action  ...  \\\n",
      "0    http://us.imdb.com/M/title-exact?Kolya%20(1996)        0       0  ...   \n",
      "1  http://us.imdb.com/M/title-exact?L%2EA%2E+Conf...        0       0  ...   \n",
      "2  http://us.imdb.com/M/title-exact?Heavyweights%...        0       0  ...   \n",
      "3  http://us.imdb.com/M/title-exact?Legends%20of%...        0       0  ...   \n",
      "4  http://us.imdb.com/M/title-exact?imdb-title-11...        0       0  ...   \n",
      "\n",
      "   Fantasy  Film-Noir  Horror  Musical  Mystery  Romance  Sci-Fi  Thriller  \\\n",
      "0        0          0       0        0        0        0       0         0   \n",
      "1        0          1       0        0        1        0       0         1   \n",
      "2        0          0       0        0        0        0       0         0   \n",
      "3        0          0       0        0        0        1       0         0   \n",
      "4        0          0       0        0        0        0       0         0   \n",
      "\n",
      "   War  Western  \n",
      "0    0        0  \n",
      "1    0        0  \n",
      "2    0        0  \n",
      "3    1        1  \n",
      "4    0        0  \n",
      "\n",
      "[5 rows x 27 columns]\n"
     ]
    }
   ],
   "source": [
    "data = pd.merge(ratings, movies, on='item_id')\n",
    "print(\"\\nMerged Data (Ratings + Movies):\")\n",
    "print(data.head())"
   ]
  },
  {
   "cell_type": "code",
   "execution_count": 7,
   "id": "2aef7626",
   "metadata": {},
   "outputs": [
    {
     "name": "stdout",
     "output_type": "stream",
     "text": [
      "\n",
      "Rating Statistics:\n",
      "count    100000.000000\n",
      "mean          3.529860\n",
      "std           1.125674\n",
      "min           1.000000\n",
      "25%           3.000000\n",
      "50%           4.000000\n",
      "75%           4.000000\n",
      "max           5.000000\n",
      "Name: rating, dtype: float64\n",
      "\n",
      "Number of Unique Users: 943\n",
      "Number of Unique Movies: 1682\n"
     ]
    }
   ],
   "source": [
    "#Basic Statistics\n",
    "print(\"\\nRating Statistics:\")\n",
    "print(data['rating'].describe())\n",
    "\n",
    "print(\"\\nNumber of Unique Users:\", data['user_id'].nunique())\n",
    "print(\"Number of Unique Movies:\", data['item_id'].nunique())"
   ]
  },
  {
   "cell_type": "code",
   "execution_count": null,
   "id": "1b6add03",
   "metadata": {},
   "outputs": [],
   "source": [
    "#Distribution of Ratings\n",
    "plt.figure(figsize=(8, 4))\n",
    "sns.countplot(x='rating', data=data, palette='viridis')\n",
    "plt.title(\"Distribution of Movie Ratings\")\n",
    "plt.show()"
   ]
  },
  {
   "cell_type": "code",
   "execution_count": null,
   "id": "368f26c3",
   "metadata": {},
   "outputs": [],
   "source": [
    "#Top 10 Most Rated Movies\n",
    "\n",
    "top_movies = data['title'].value_counts().head(10)\n",
    "plt.figure(figsize=(10, 5))\n",
    "sns.barplot(x=top_movies.values, y=top_movies.index, palette='magma')\n",
    "plt.title(\"Top 10 Most Rated Movies\")\n",
    "plt.xlabel(\"Number of Ratings\")\n",
    "plt.show()"
   ]
  },
  {
   "cell_type": "code",
   "execution_count": 10,
   "id": "fd644ade",
   "metadata": {},
   "outputs": [
    {
     "data": {
      "image/png": "[encoded data removed]",
      "text/plain": [
       "<Figure size 1000x400 with 1 Axes>"
      ]
     },
     "metadata": {},
     "output_type": "display_data"
    }
   ],
   "source": [
    "#User Rating Frequency\n",
    "\n",
    "user_activity = data['user_id'].value_counts()\n",
    "plt.figure(figsize=(10, 4))\n",
    "sns.histplot(user_activity, bins=50, kde=True)\n",
    "plt.title(\"Number of Ratings per User\")\n",
    "plt.xlabel(\"Ratings Count\")\n",
    "plt.ylabel(\"Number of Users\")\n",
    "plt.show()"
   ]
  },
  {
   "cell_type": "code",
   "execution_count": null,
   "id": "62f06673",
   "metadata": {},
   "outputs": [
    {
     "name": "stdout",
     "output_type": "stream",
     "text": [
      "\n",
      "User-Item Matrix Shape: (943, 1664)\n",
      "Sample (First 5 Users, First 5 Movies):\n",
      "title    'Til There Was You (1997)  1-900 (1994)  101 Dalmatians (1996)  \\\n",
      "user_id                                                                   \n",
      "1                              0.0           0.0                    2.0   \n",
      "2                              0.0           0.0                    0.0   \n",
      "3                              0.0           0.0                    0.0   \n",
      "4                              0.0           0.0                    0.0   \n",
      "5                              0.0           0.0                    2.0   \n",
      "\n",
      "title    12 Angry Men (1957)  187 (1997)  \n",
      "user_id                                   \n",
      "1                        5.0         0.0  \n",
      "2                        0.0         0.0  \n",
      "3                        0.0         2.0  \n",
      "4                        0.0         0.0  \n",
      "5                        0.0         0.0  \n"
     ]
    }
   ],
   "source": [
    "\n",
    "user_item_matrix = data.pivot_table(\n",
    "    index='user_id', \n",
    "    columns='title', \n",
    "    values='rating',\n",
    "    fill_value=0  \n",
    ")\n",
    "\n",
    "print(\"\\nUser-Item Matrix Shape:\", user_item_matrix.shape)\n",
    "print(\"Sample (First 5 Users, First 5 Movies):\")\n",
    "print(user_item_matrix.iloc[:5, :5])"
   ]
  }
 ],
 "metadata": {
  "kernelspec": {
   "display_name": "Python 3",
   "language": "python",
   "name": "python3"
  },
  "language_info": {
   "codemirror_mode": {
    "name": "ipython",
    "version": 3
   },
   "file_extension": ".py",
   "mimetype": "text/x-python",
   "name": "python",
   "nbconvert_exporter": "python",
   "pygments_lexer": "ipython3",
   "version": "3.10.0"
  }
 },
 "nbformat": 4,
 "nbformat_minor": 5
}
